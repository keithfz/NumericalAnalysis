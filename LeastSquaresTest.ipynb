{
 "cells": [
  {
   "cell_type": "code",
   "execution_count": 4,
   "metadata": {},
   "outputs": [
    {
     "name": "stdout",
     "output_type": "stream",
     "text": [
      "[-8.52241787  2.48564256  6.29272855]\n",
      "rooted mean squared error: 0.8975\n",
      "rooted mean squared error: 0.8055\n"
     ]
    }
   ],
   "source": [
    "import numpy as np\n",
    "\n",
    "def rooted_mean_square_error(y,y_hat):\n",
    "    re = np.mean(np.sum((y - y_hat) ** 2.0))\n",
    "    return np.sqrt(re)\n",
    "\n",
    "# Construct the least squares approximation of degree 2 and compute the error\n",
    "# y_hat = a1 + a2 x + a3 x^2\n",
    "x = np.asarray([4.00, 4.20, 4.50, 4.70, 5.10,\n",
    "                5.50, 5.90, 6.30, 6.80, 7.10])\n",
    "y = np.asarray([102.56, 113.18, 130.11, 142.05, 167.53, \n",
    "                195.14, 224.87, 256.73, 299.50, 326.72])\n",
    "x_bar_1 = np.mean(x)\n",
    "x_bar_2 = np.mean(x*x)\n",
    "x_bar_3 = np.mean(x*x*x)\n",
    "x_bar_4 = np.mean((x*x)*(x*x))\n",
    "y_bar_1 = np.mean(y)\n",
    "xy_bar = np.mean(x*y)\n",
    "x2y_bar = np.mean(x*x*y)\n",
    "a = np.asarray([[10 , 54.1 , 303.39],\n",
    "                [54.1, 303.39, 1759.8],\n",
    "                [303.39, 1759.8, 10523]])\n",
    "b = np.asarray( [1958.4, 11367, 68007])\n",
    "w = np.linalg.solve(a,b)\n",
    "print(w)\n",
    "y_hat = [w[0]+w[1]*_ + w[2]*_**2. for _ in x]\n",
    "error = rooted_mean_square_error(y, y_hat)\n",
    "print('rooted mean squared error: %.4f' % error)\n",
    "print('rooted mean squared error: %.4f' % (error * error))\n"
   ]
  },
  {
   "cell_type": "code",
   "execution_count": null,
   "metadata": {},
   "outputs": [],
   "source": []
  },
  {
   "cell_type": "code",
   "execution_count": null,
   "metadata": {},
   "outputs": [],
   "source": []
  }
 ],
 "metadata": {
  "kernelspec": {
   "display_name": "Python 3",
   "language": "python",
   "name": "python3"
  }
 },
 "nbformat": 4,
 "nbformat_minor": 2
}
